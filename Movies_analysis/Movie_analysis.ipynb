{
 "cells": [
  {
   "cell_type": "markdown",
   "metadata": {},
   "source": [
    "import library"
   ]
  },
  {
   "cell_type": "code",
   "execution_count": 2,
   "metadata": {},
   "outputs": [],
   "source": [
    "import numpy as np\n",
    "import pandas as pd\n",
    "import matplotlib.pyplot as plt\n",
    "from matplotlib import style"
   ]
  },
  {
   "cell_type": "markdown",
   "metadata": {},
   "source": [
    "load Data"
   ]
  },
  {
   "cell_type": "code",
   "execution_count": 3,
   "metadata": {},
   "outputs": [],
   "source": [
    "import codecs"
   ]
  },
  {
   "cell_type": "code",
   "execution_count": 7,
   "metadata": {},
   "outputs": [],
   "source": [
    "data = 'datasets/movies.dat'"
   ]
  },
  {
   "cell_type": "code",
   "execution_count": 8,
   "metadata": {},
   "outputs": [
    {
     "name": "stdout",
     "output_type": "stream",
     "text": [
      "     1::Toy Story (1995)::Animation|Children's|Comedy\n",
      "0     2::Jumanji (1995)::Adventure|Children's|Fantasy\n",
      "1          3::Grumpier Old Men (1995)::Comedy|Romance\n",
      "2           4::Waiting to Exhale (1995)::Comedy|Drama\n",
      "3       5::Father of the Bride Part II (1995)::Comedy\n",
      "4               6::Heat (1995)::Action|Crime|Thriller\n",
      "...                                               ...\n",
      "3877            3948::Meet the Parents (2000)::Comedy\n",
      "3878          3949::Requiem for a Dream (2000)::Drama\n",
      "3879                    3950::Tigerland (2000)::Drama\n",
      "3880             3951::Two Family House (2000)::Drama\n",
      "3881      3952::Contender, The (2000)::Drama|Thriller\n",
      "\n",
      "[3882 rows x 1 columns]\n"
     ]
    }
   ],
   "source": [
    "try:\n",
    "    # Assuming data is in a structured format like CSV or similar\n",
    "    \n",
    "    df = pd.read_csv(data, delimiter='\\t' , encoding='latin-1')\n",
    "    # Process the DataFrame\n",
    "    print(df)\n",
    " \n",
    "except FileNotFoundError:\n",
    "    print(f\"File '{data}' not found.\")\n",
    "except Exception as e:\n",
    "    print(f\"An error occurred: {e}\")"
   ]
  },
  {
   "cell_type": "code",
   "execution_count": 1,
   "metadata": {},
   "outputs": [
    {
     "ename": "NameError",
     "evalue": "name 'pd' is not defined",
     "output_type": "error",
     "traceback": [
      "\u001b[1;31m---------------------------------------------------------------------------\u001b[0m",
      "\u001b[1;31mNameError\u001b[0m                                 Traceback (most recent call last)",
      "Cell \u001b[1;32mIn[1], line 1\u001b[0m\n\u001b[1;32m----> 1\u001b[0m df \u001b[38;5;241m=\u001b[39m \u001b[43mpd\u001b[49m\u001b[38;5;241m.\u001b[39mread_csv(data, delimiter\u001b[38;5;241m=\u001b[39m\u001b[38;5;124m'\u001b[39m\u001b[38;5;130;01m\\t\u001b[39;00m\u001b[38;5;124m'\u001b[39m , encoding\u001b[38;5;241m=\u001b[39m\u001b[38;5;124m'\u001b[39m\u001b[38;5;124mlatin-1\u001b[39m\u001b[38;5;124m'\u001b[39m)\n",
      "\u001b[1;31mNameError\u001b[0m: name 'pd' is not defined"
     ]
    }
   ],
   "source": [
    " df = pd.read_csv(data, delimiter='\\t' , encoding='latin-1')"
   ]
  }
 ],
 "metadata": {
  "kernelspec": {
   "display_name": "Python 3",
   "language": "python",
   "name": "python3"
  },
  "language_info": {
   "codemirror_mode": {
    "name": "ipython",
    "version": 3
   },
   "file_extension": ".py",
   "mimetype": "text/x-python",
   "name": "python",
   "nbconvert_exporter": "python",
   "pygments_lexer": "ipython3",
   "version": "3.10.11"
  }
 },
 "nbformat": 4,
 "nbformat_minor": 2
}
